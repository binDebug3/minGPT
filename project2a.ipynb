{
 "cells": [
  {
   "cell_type": "code",
   "execution_count": 13,
   "metadata": {},
   "outputs": [],
   "source": [
    "import os\n",
    "import numpy as np\n",
    "from matplotlib import pyplot as plt\n",
    "\n",
    "from transformers import GPT2Tokenizer, GPT2LMHeadModel\n",
    "from datasets import load_dataset\n",
    "import torch\n",
    "from torch.utils.data import Dataset, DataLoader\n",
    "\n",
    "from mingpt.utils import set_seed\n",
    "from mingpt.model import GPT\n",
    "from mingpt.trainer import Trainer"
   ]
  },
  {
   "cell_type": "code",
   "execution_count": 14,
   "metadata": {},
   "outputs": [],
   "source": [
    "# set model hyperparameters\n",
    "select_mingpt = True\n",
    "model_architecture = 'gpt2'\n",
    "device = 'cpu'\n",
    "set_seed(42)"
   ]
  },
  {
   "cell_type": "markdown",
   "metadata": {},
   "source": [
    "Dataset"
   ]
  },
  {
   "cell_type": "code",
   "execution_count": 15,
   "metadata": {},
   "outputs": [
    {
     "name": "stderr",
     "output_type": "stream",
     "text": [
      "Found cached dataset red_pajama-data-1_t-sample (c:/Users/dalli/source/repos/CS674/lab2/minGPT/datasets/togethercomputer___red_pajama-data-1_t-sample/plain_text/1.0.0/6ea3bc8ec2e84ec6d2df1930942e9028ace8c5b9d9143823cf911c50bbd92039)\n",
      "100%|██████████| 1/1 [00:02<00:00,  2.39s/it]\n"
     ]
    }
   ],
   "source": [
    "# load data\n",
    "dataset = load_dataset(\"togethercomputer/RedPajama-Data-1T-Sample\", \"plain_text\", cache_dir=\"datasets\")[\"train\"]"
   ]
  },
  {
   "cell_type": "code",
   "execution_count": 16,
   "metadata": {},
   "outputs": [],
   "source": [
    "# dataset class\n",
    "class RedPajama(Dataset):\n",
    "    def __init__(self, data, max_length=1024):\n",
    "        # super().__init__()\n",
    "        self.data = data\n",
    "        self.max_length = max_length\n",
    "        self.tokenizer = GPT2Tokenizer.from_pretrained(model_architecture)\n",
    "        self.tokenizer.pad_token_id = 50256\n",
    "        self.vocab_size = self.tokenizer.vocab_size\n",
    "\n",
    "    def __len__(self):\n",
    "        # return the number of data points\n",
    "        return len(self.data)\n",
    "    \n",
    "    def __getitem__(self, idx):\n",
    "        # load and tokenize the text\n",
    "        text = self.data[idx][\"text\"]\n",
    "        tokens = self.tokenizer.encode(text, \n",
    "                                       add_special_tokens=True, \n",
    "                                       max_length=self.max_length,\n",
    "                                       truncation=True,\n",
    "                                       return_tensors=\"pt\",\n",
    "                                       padding=True)\n",
    "        \n",
    "        # split and shift tokens after excluding the CLS token\n",
    "        targets = tokens[:, 1:].clone()\n",
    "        tokens = tokens[:, :-1].clone()\n",
    "\n",
    "        return tokens, targets\n",
    "\n",
    "rp_dataset = RedPajama(dataset)"
   ]
  },
  {
   "cell_type": "code",
   "execution_count": 17,
   "metadata": {},
   "outputs": [],
   "source": [
    "# set up data path\n",
    "path = \"./checkpoints/redpajama3\"\n",
    "\n",
    "if not os.path.exists(path):\n",
    "    os.makedirs(path)\n",
    "    checkpoints = os.listdir(path)\n",
    "else:\n",
    "    checkpoints = os.listdir(path)\n",
    "checkpoints.sort()"
   ]
  },
  {
   "cell_type": "markdown",
   "metadata": {},
   "source": [
    "Model"
   ]
  },
  {
   "cell_type": "code",
   "execution_count": 18,
   "metadata": {},
   "outputs": [
    {
     "name": "stdout",
     "output_type": "stream",
     "text": [
      "number of parameters: 2.55M\n"
     ]
    }
   ],
   "source": [
    "# set up model configurations\n",
    "model_config = GPT.get_default_config()\n",
    "model_config.model_type = 'gpt-nano'\n",
    "model_config.vocab_size = rp_dataset.vocab_size\n",
    "model_config.block_size = rp_dataset.max_length\n",
    "model_config.checkpoint = 'checkpoints/' + checkpoints[-1] if checkpoints else None\n",
    "\n",
    "# set up model with configurations\n",
    "model = GPT(model_config)"
   ]
  },
  {
   "cell_type": "code",
   "execution_count": 19,
   "metadata": {},
   "outputs": [
    {
     "name": "stdout",
     "output_type": "stream",
     "text": [
      "running on device cpu\n"
     ]
    }
   ],
   "source": [
    "# set up trainer configurations\n",
    "max_iters = 5000\n",
    "train_config = Trainer.get_default_config()\n",
    "train_config.learning_rate = 5e-4 # the model we're using is so small that we can go a bit faster\n",
    "train_config.max_iters = max_iters + model.iter_num if model_config.checkpoint else max_iters\n",
    "train_config.num_workers = 0\n",
    "train_config.checkpoint_iters = 100 \n",
    "train_config.batch_size = 1\n",
    "train_config.checkpoint_name = path\n",
    "\n",
    "# set up trainer with configurations\n",
    "trainer = Trainer(train_config, model, rp_dataset)"
   ]
  },
  {
   "cell_type": "code",
   "execution_count": 20,
   "metadata": {},
   "outputs": [
    {
     "name": "stdout",
     "output_type": "stream",
     "text": [
      "iter_dt 0.00ms; iter 0: train loss 10.83714\n",
      "iter_dt 167.03ms; iter 100: train loss 8.52855\n",
      "iter_dt 1141.47ms; iter 200: train loss 8.43323\n",
      "iter_dt 232.00ms; iter 300: train loss 7.50938\n",
      "iter_dt 1190.65ms; iter 400: train loss 7.54924\n",
      "iter_dt 151.00ms; iter 500: train loss 7.80563\n",
      "iter_dt 487.55ms; iter 600: train loss 8.13374\n",
      "iter_dt 210.52ms; iter 700: train loss 8.61575\n",
      "iter_dt 1604.20ms; iter 800: train loss 6.95053\n",
      "iter_dt 135.56ms; iter 900: train loss 8.06362\n",
      "iter_dt 436.31ms; iter 1000: train loss 7.16154\n",
      "iter_dt 1036.63ms; iter 1100: train loss 6.95327\n",
      "iter_dt 1353.54ms; iter 1200: train loss 8.27994\n",
      "iter_dt 329.48ms; iter 1300: train loss 7.19008\n",
      "iter_dt 1053.57ms; iter 1400: train loss 7.35434\n",
      "iter_dt 1292.96ms; iter 1500: train loss 8.47612\n",
      "iter_dt 1478.08ms; iter 1600: train loss 8.35643\n",
      "iter_dt 878.79ms; iter 1700: train loss 6.95507\n",
      "iter_dt 233.04ms; iter 1800: train loss 7.22042\n",
      "iter_dt 767.97ms; iter 1900: train loss 7.63463\n",
      "iter_dt 897.63ms; iter 2000: train loss 6.37167\n",
      "iter_dt 2207.90ms; iter 2100: train loss 6.84482\n",
      "iter_dt 778.14ms; iter 2200: train loss 6.31353\n",
      "iter_dt 986.30ms; iter 2300: train loss 7.57478\n",
      "iter_dt 1143.43ms; iter 2400: train loss 6.78985\n",
      "iter_dt 187.62ms; iter 2500: train loss 7.14262\n",
      "iter_dt 1082.64ms; iter 2600: train loss 7.50444\n",
      "iter_dt 467.26ms; iter 2700: train loss 6.97685\n",
      "iter_dt 921.37ms; iter 2800: train loss 8.35205\n",
      "iter_dt 1163.48ms; iter 2900: train loss 6.59670\n",
      "iter_dt 856.30ms; iter 3000: train loss 7.03544\n",
      "iter_dt 1032.48ms; iter 3100: train loss 6.90777\n",
      "iter_dt 1123.19ms; iter 3200: train loss 7.42130\n",
      "iter_dt 770.43ms; iter 3300: train loss 6.52950\n",
      "iter_dt 1185.64ms; iter 3400: train loss 7.18101\n",
      "iter_dt 974.29ms; iter 3500: train loss 7.46500\n",
      "iter_dt 436.67ms; iter 3600: train loss 6.51693\n",
      "iter_dt 1114.30ms; iter 3700: train loss 7.38028\n",
      "iter_dt 148.54ms; iter 3800: train loss 7.94705\n",
      "iter_dt 1878.97ms; iter 3900: train loss 6.60072\n",
      "iter_dt 354.14ms; iter 4000: train loss 7.15570\n",
      "iter_dt 870.00ms; iter 4100: train loss 5.90969\n",
      "iter_dt 2007.11ms; iter 4200: train loss 6.27370\n",
      "iter_dt 1790.16ms; iter 4300: train loss 6.70236\n",
      "iter_dt 1200.19ms; iter 4400: train loss 6.31756\n",
      "iter_dt 716.46ms; iter 4500: train loss 6.97341\n",
      "iter_dt 593.88ms; iter 4600: train loss 6.21722\n",
      "iter_dt 1307.11ms; iter 4700: train loss 7.24968\n",
      "iter_dt 864.91ms; iter 4800: train loss 6.99921\n",
      "iter_dt 949.63ms; iter 4900: train loss 7.12677\n"
     ]
    }
   ],
   "source": [
    "# train model\n",
    "def batch_end_callback(trainer):\n",
    "    if trainer.iter_num % 100 == 0:\n",
    "        print(f\"iter_dt {trainer.iter_dt * 1000:.2f}ms; iter {trainer.iter_num}: train loss {trainer.loss.item():.5f}\")\n",
    "trainer.set_callback('on_batch_end', batch_end_callback)\n",
    "\n",
    "trainer.run()"
   ]
  },
  {
   "cell_type": "code",
   "execution_count": 22,
   "metadata": {},
   "outputs": [
    {
     "data": {
      "image/png": "[encoded data removed]",
      "text/plain": [
       "<Figure size 640x480 with 1 Axes>"
      ]
     },
     "metadata": {},
     "output_type": "display_data"
    },
    {
     "data": {
      "text/plain": [
       "<Figure size 640x480 with 0 Axes>"
      ]
     },
     "metadata": {},
     "output_type": "display_data"
    }
   ],
   "source": [
    "# show loss\n",
    "val = [a.detach().numpy() for a in trainer.saved_loss]\n",
    "plt.plot(trainer.iter_list, val)\n",
    "plt.xlabel('Iteration')\n",
    "plt.ylabel('Loss')\n",
    "plt.title('GPT-Nano Training Loss')\n",
    "plt.ylim(0, max(val) *1.1)\n",
    "plt.show()\n",
    "\n",
    "plt.savefig('gpt-nano-loss.png')"
   ]
  },
  {
   "cell_type": "markdown",
   "metadata": {},
   "source": [
    "Use Model"
   ]
  },
  {
   "cell_type": "code",
   "execution_count": null,
   "metadata": {},
   "outputs": [],
   "source": [
    "def generate(prompt=\"\", sample_count=10, steps=20, do_sample=True):\n",
    "    # handle empty prompt\n",
    "    if prompt == \"\": prompt = \"<|endoftext|>\"\n",
    "    \n",
    "    # tokenize and encode the prompt in batches\n",
    "    tokenizer = GPT2Tokenizer.from_pretrained(model_architecture)\n",
    "    tokenized = tokenizer(prompt, return_tensors=\"pt\").to(device)\n",
    "    input = tokenized[\"input_ids\"].expand(sample_count, -1)\n",
    "\n",
    "    # generate output\n",
    "    output = model.generate(input, max_new_tokens=steps, do_sample=do_sample, top_k=40)\n",
    "    for i in range(sample_count):\n",
    "        print(f\"Sample {i+1}: {tokenizer.decode(output[i].cpu().squeeze(), skip_special_tokens=True)}\\n\")"
   ]
  },
  {
   "cell_type": "code",
   "execution_count": null,
   "metadata": {},
   "outputs": [],
   "source": [
    "# generate(\"Math is\")"
   ]
  }
 ],
 "metadata": {
  "kernelspec": {
   "display_name": "Python 3",
   "language": "python",
   "name": "python3"
  },
  "language_info": {
   "codemirror_mode": {
    "name": "ipython",
    "version": 3
   },
   "file_extension": ".py",
   "mimetype": "text/x-python",
   "name": "python",
   "nbconvert_exporter": "python",
   "pygments_lexer": "ipython3",
   "version": "3.11.5"
  }
 },
 "nbformat": 4,
 "nbformat_minor": 2
}
