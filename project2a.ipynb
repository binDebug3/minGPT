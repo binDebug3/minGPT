{
 "cells": [
  {
   "cell_type": "code",
   "execution_count": 1,
   "metadata": {},
   "outputs": [
    {
     "name": "stderr",
     "output_type": "stream",
     "text": [
      "c:\\Users\\dalli\\anaconda3\\envs\\pydl\\Lib\\site-packages\\tqdm\\auto.py:21: TqdmWarning: IProgress not found. Please update jupyter and ipywidgets. See https://ipywidgets.readthedocs.io/en/stable/user_install.html\n",
      "  from .autonotebook import tqdm as notebook_tqdm\n"
     ]
    }
   ],
   "source": [
    "import os\n",
    "import numpy as np\n",
    "from matplotlib import pyplot as plt\n",
    "\n",
    "from transformers import GPT2Tokenizer, GPT2LMHeadModel\n",
    "from datasets import load_dataset\n",
    "import torch\n",
    "from torch.utils.data import Dataset, DataLoader\n",
    "\n",
    "from mingpt.utils import set_seed\n",
    "from mingpt.model import GPT\n",
    "from mingpt.trainer import Trainer"
   ]
  },
  {
   "cell_type": "code",
   "execution_count": 2,
   "metadata": {},
   "outputs": [],
   "source": [
    "# set model hyperparameters\n",
    "select_mingpt = True\n",
    "model_architecture = 'gpt2'\n",
    "device = 'cpu'\n",
    "set_seed(42)"
   ]
  },
  {
   "cell_type": "markdown",
   "metadata": {},
   "source": [
    "Dataset"
   ]
  },
  {
   "cell_type": "code",
   "execution_count": 3,
   "metadata": {},
   "outputs": [
    {
     "name": "stderr",
     "output_type": "stream",
     "text": [
      "Found cached dataset red_pajama-data-1_t-sample (c:/Users/dalli/source/repos/CS674/lab2/minGPT/datasets/togethercomputer___red_pajama-data-1_t-sample/plain_text/1.0.0/6ea3bc8ec2e84ec6d2df1930942e9028ace8c5b9d9143823cf911c50bbd92039)\n",
      "100%|██████████| 1/1 [00:01<00:00,  1.88s/it]\n"
     ]
    }
   ],
   "source": [
    "# load data\n",
    "dataset = load_dataset(\"togethercomputer/RedPajama-Data-1T-Sample\", \"plain_text\", cache_dir=\"datasets\")[\"train\"]"
   ]
  },
  {
   "cell_type": "code",
   "execution_count": 4,
   "metadata": {},
   "outputs": [],
   "source": [
    "# dataset class\n",
    "class RedPajama(Dataset):\n",
    "    def __init__(self, data, max_length=1024):\n",
    "        # super().__init__()\n",
    "        self.data = data\n",
    "        self.max_length = max_length\n",
    "        self.tokenizer = GPT2Tokenizer.from_pretrained(model_architecture)\n",
    "        self.tokenizer.pad_token_id = 50256\n",
    "        self.vocab_size = self.tokenizer.vocab_size\n",
    "\n",
    "    def __len__(self):\n",
    "        # return the number of data points\n",
    "        return len(self.data)\n",
    "    \n",
    "    def __getitem__(self, idx):\n",
    "        # load and tokenize the text\n",
    "        text = self.data[idx][\"text\"]\n",
    "        tokens = self.tokenizer.encode(text, \n",
    "                                       add_special_tokens=True, \n",
    "                                       max_length=self.max_length,\n",
    "                                       truncation=True,\n",
    "                                       return_tensors=\"pt\",\n",
    "                                       padding=True)\n",
    "        \n",
    "        # split and shift tokens after excluding the CLS token\n",
    "        targets = tokens[:, 1:].clone()\n",
    "        tokens = tokens[:, :-1].clone()\n",
    "\n",
    "        return tokens, targets\n",
    "\n",
    "rp_dataset = RedPajama(dataset)"
   ]
  },
  {
   "cell_type": "code",
   "execution_count": 5,
   "metadata": {},
   "outputs": [],
   "source": [
    "# set up data path\n",
    "path = \"./checkpoints/redpajama\"\n",
    "\n",
    "if not os.path.exists(path):\n",
    "    os.makedirs(path)\n",
    "    checkpoints = os.listdir(path)\n",
    "else:\n",
    "    checkpoints = os.listdir(path)\n",
    "checkpoints.sort()"
   ]
  },
  {
   "cell_type": "markdown",
   "metadata": {},
   "source": [
    "Model"
   ]
  },
  {
   "cell_type": "code",
   "execution_count": 6,
   "metadata": {},
   "outputs": [
    {
     "name": "stdout",
     "output_type": "stream",
     "text": [
      "number of parameters: 2.55M\n"
     ]
    }
   ],
   "source": [
    "# set up model configurations\n",
    "model_config = GPT.get_default_config()\n",
    "model_config.model_type = 'gpt-nano'\n",
    "model_config.vocab_size = rp_dataset.vocab_size\n",
    "model_config.block_size = rp_dataset.max_length\n",
    "model_config.checkpoint = 'checkpoints/' + checkpoints[-1] if checkpoints else None\n",
    "\n",
    "# set up model with configurations\n",
    "model = GPT(model_config)"
   ]
  },
  {
   "cell_type": "code",
   "execution_count": 7,
   "metadata": {},
   "outputs": [
    {
     "name": "stdout",
     "output_type": "stream",
     "text": [
      "running on device cpu\n"
     ]
    }
   ],
   "source": [
    "# set up trainer configurations\n",
    "max_iters = 500\n",
    "train_config = Trainer.get_default_config()\n",
    "train_config.learning_rate = 5e-4 # the model we're using is so small that we can go a bit faster\n",
    "train_config.max_iters = max_iters + model.iter_num if model_config.checkpoint else max_iters\n",
    "train_config.num_workers = 0\n",
    "train_config.checkpoint_iters = 100 \n",
    "train_config.batch_size = 1\n",
    "train_config.checkpoint_name = path\n",
    "\n",
    "# set up trainer with configurations\n",
    "trainer = Trainer(train_config, model, rp_dataset)"
   ]
  },
  {
   "cell_type": "code",
   "execution_count": 9,
   "metadata": {},
   "outputs": [
    {
     "name": "stdout",
     "output_type": "stream",
     "text": [
      "iter_dt 746.75ms; iter 0: train loss 7.65731\n",
      "iter_dt 1411.00ms; iter 100: train loss 7.64239\n",
      "iter_dt 1258.00ms; iter 200: train loss 8.28406\n",
      "iter_dt 534.00ms; iter 300: train loss 7.24194\n",
      "iter_dt 276.00ms; iter 400: train loss 7.55407\n"
     ]
    }
   ],
   "source": [
    "# train model\n",
    "def batch_end_callback(trainer):\n",
    "    if trainer.iter_num % 100 == 0:\n",
    "        print(f\"iter_dt {trainer.iter_dt * 1000:.2f}ms; iter {trainer.iter_num}: train loss {trainer.loss.item():.5f}\")\n",
    "trainer.set_callback('on_batch_end', batch_end_callback)\n",
    "\n",
    "trainer.run()"
   ]
  },
  {
   "cell_type": "code",
   "execution_count": 11,
   "metadata": {},
   "outputs": [
    {
     "data": {
      "image/png": "[encoded data removed]",
      "text/plain": [
       "<Figure size 640x480 with 1 Axes>"
      ]
     },
     "metadata": {},
     "output_type": "display_data"
    }
   ],
   "source": [
    "# show loss\n",
    "plt.plot(trainer.iter_list, [a.detach() for a in trainer.saved_loss])\n",
    "plt.show()"
   ]
  },
  {
   "cell_type": "markdown",
   "metadata": {},
   "source": [
    "Use Model"
   ]
  },
  {
   "cell_type": "code",
   "execution_count": 12,
   "metadata": {},
   "outputs": [],
   "source": [
    "def generate(prompt=\"\", sample_count=10, steps=20, do_sample=True):\n",
    "    # handle empty prompt\n",
    "    if prompt == \"\": prompt = \"<|endoftext|>\"\n",
    "    \n",
    "    # tokenize and encode the prompt in batches\n",
    "    tokenizer = GPT2Tokenizer.from_pretrained(model_architecture)\n",
    "    tokenized = tokenizer(prompt, return_tensors=\"pt\").to(device)\n",
    "    input = tokenized[\"input_ids\"].expand(sample_count, -1)\n",
    "\n",
    "    # generate output\n",
    "    output = model.generate(input, max_new_tokens=steps, do_sample=do_sample, top_k=40)\n",
    "    for i in range(sample_count):\n",
    "        print(f\"Sample {i+1}: {tokenizer.decode(output[i].cpu().squeeze(), skip_special_tokens=True)}\\n\")"
   ]
  },
  {
   "cell_type": "code",
   "execution_count": null,
   "metadata": {},
   "outputs": [],
   "source": [
    "generate(\"Math is\")"
   ]
  }
 ],
 "metadata": {
  "kernelspec": {
   "display_name": "Python 3",
   "language": "python",
   "name": "python3"
  },
  "language_info": {
   "codemirror_mode": {
    "name": "ipython",
    "version": 3
   },
   "file_extension": ".py",
   "mimetype": "text/x-python",
   "name": "python",
   "nbconvert_exporter": "python",
   "pygments_lexer": "ipython3",
   "version": "3.11.5"
  }
 },
 "nbformat": 4,
 "nbformat_minor": 2
}
