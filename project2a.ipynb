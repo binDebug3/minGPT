{
 "cells": [
  {
   "cell_type": "code",
   "execution_count": 1,
   "metadata": {},
   "outputs": [
    {
     "name": "stderr",
     "output_type": "stream",
     "text": [
      "c:\\Users\\dalli\\anaconda3\\envs\\pydl\\Lib\\site-packages\\tqdm\\auto.py:21: TqdmWarning: IProgress not found. Please update jupyter and ipywidgets. See https://ipywidgets.readthedocs.io/en/stable/user_install.html\n",
      "  from .autonotebook import tqdm as notebook_tqdm\n"
     ]
    }
   ],
   "source": [
    "import numpy as np\n",
    "from transformers import GPT2Tokenizer, GPT2LMHeadModel\n",
    "from mingpt.utils import set_seed\n",
    "from mingpt.model import GPT\n",
    "from mingpt.bpe import BPETokenizer"
   ]
  },
  {
   "cell_type": "code",
   "execution_count": 2,
   "metadata": {},
   "outputs": [],
   "source": [
    "select_mingpt = True\n",
    "model_architecture = 'gpt2'\n",
    "device = 'cpu'\n",
    "set_seed(42)"
   ]
  },
  {
   "cell_type": "code",
   "execution_count": 3,
   "metadata": {},
   "outputs": [
    {
     "name": "stdout",
     "output_type": "stream",
     "text": [
      "number of parameters: 124.44M\n"
     ]
    },
    {
     "name": "stderr",
     "output_type": "stream",
     "text": [
      "Downloading (…)lve/main/config.json: 100%|██████████| 665/665 [00:00<?, ?B/s] \n",
      "c:\\Users\\dalli\\anaconda3\\envs\\pydl\\Lib\\site-packages\\huggingface_hub\\file_download.py:137: UserWarning: `huggingface_hub` cache-system uses symlinks by default to efficiently store duplicated files but your machine does not support them in C:\\Users\\dalli\\.cache\\huggingface\\hub. Caching files will still work but in a degraded version that might require more space on your disk. This warning can be disabled by setting the `HF_HUB_DISABLE_SYMLINKS_WARNING` environment variable. For more details, see https://huggingface.co/docs/huggingface_hub/how-to-cache#limitations.\n",
      "To support symlinks on Windows, you either need to activate Developer Mode or to run Python as an administrator. In order to see activate developer mode, see this article: https://docs.microsoft.com/en-us/windows/apps/get-started/enable-your-device-for-development\n",
      "  warnings.warn(message)\n",
      "Downloading model.safetensors: 100%|██████████| 548M/548M [00:18<00:00, 29.9MB/s] \n",
      "Downloading (…)neration_config.json: 100%|██████████| 124/124 [00:00<00:00, 125kB/s]\n"
     ]
    },
    {
     "ename": "AssertionError",
     "evalue": "",
     "output_type": "error",
     "traceback": [
      "\u001b[1;31m---------------------------------------------------------------------------\u001b[0m",
      "\u001b[1;31mAssertionError\u001b[0m                            Traceback (most recent call last)",
      "\u001b[1;32mc:\\Users\\dalli\\source\\repos\\CS674\\lab2\\minGPT\\project2a.ipynb Cell 3\u001b[0m line \u001b[0;36m2\n\u001b[0;32m      <a href='vscode-notebook-cell:/c%3A/Users/dalli/source/repos/CS674/lab2/minGPT/project2a.ipynb#W2sZmlsZQ%3D%3D?line=0'>1</a>\u001b[0m \u001b[39mif\u001b[39;00m select_mingpt:\n\u001b[1;32m----> <a href='vscode-notebook-cell:/c%3A/Users/dalli/source/repos/CS674/lab2/minGPT/project2a.ipynb#W2sZmlsZQ%3D%3D?line=1'>2</a>\u001b[0m     model \u001b[39m=\u001b[39m GPT\u001b[39m.\u001b[39mfrom_pretrained(model_architecture)\n\u001b[0;32m      <a href='vscode-notebook-cell:/c%3A/Users/dalli/source/repos/CS674/lab2/minGPT/project2a.ipynb#W2sZmlsZQ%3D%3D?line=2'>3</a>\u001b[0m \u001b[39melse\u001b[39;00m:\n\u001b[0;32m      <a href='vscode-notebook-cell:/c%3A/Users/dalli/source/repos/CS674/lab2/minGPT/project2a.ipynb#W2sZmlsZQ%3D%3D?line=3'>4</a>\u001b[0m     model \u001b[39m=\u001b[39m GPT2LMHeadModel\u001b[39m.\u001b[39mfrom_pretrained(model_architecture)\n",
      "File \u001b[1;32mc:\\Users\\dalli\\source\\repos\\CS674\\lab2\\minGPT\\mingpt\\model.py:213\u001b[0m, in \u001b[0;36mGPT.from_pretrained\u001b[1;34m(cls, model_type)\u001b[0m\n\u001b[0;32m    210\u001b[0m transposed \u001b[39m=\u001b[39m [\u001b[39m'\u001b[39m\u001b[39mattn.c_attn.weight\u001b[39m\u001b[39m'\u001b[39m, \u001b[39m'\u001b[39m\u001b[39mattn.c_proj.weight\u001b[39m\u001b[39m'\u001b[39m, \u001b[39m'\u001b[39m\u001b[39mmlp.c_fc.weight\u001b[39m\u001b[39m'\u001b[39m, \u001b[39m'\u001b[39m\u001b[39mmlp.c_proj.weight\u001b[39m\u001b[39m'\u001b[39m]\n\u001b[0;32m    211\u001b[0m \u001b[39m# basically the openai checkpoints use a \"Conv1D\" module, but we only want to use a vanilla nn.Linear.\u001b[39;00m\n\u001b[0;32m    212\u001b[0m \u001b[39m# this means that we have to transpose these weights when we import them\u001b[39;00m\n\u001b[1;32m--> 213\u001b[0m \u001b[39massert\u001b[39;00m \u001b[39mlen\u001b[39m(keys) \u001b[39m==\u001b[39m \u001b[39mlen\u001b[39m(sd)\n\u001b[0;32m    214\u001b[0m \u001b[39mfor\u001b[39;00m k \u001b[39min\u001b[39;00m keys:\n\u001b[0;32m    215\u001b[0m     \u001b[39mif\u001b[39;00m \u001b[39many\u001b[39m(k\u001b[39m.\u001b[39mendswith(w) \u001b[39mfor\u001b[39;00m w \u001b[39min\u001b[39;00m transposed):\n\u001b[0;32m    216\u001b[0m         \u001b[39m# special treatment for the Conv1D weights we need to transpose\u001b[39;00m\n",
      "\u001b[1;31mAssertionError\u001b[0m: "
     ]
    }
   ],
   "source": [
    "if select_mingpt:\n",
    "    model = GPT.from_pretrained(model_architecture)\n",
    "else:\n",
    "    model = GPT2LMHeadModel.from_pretrained(model_architecture)\n",
    "    model.config.pad_token_id = model.config.eos_token_id\n",
    "\n",
    "model.to(device)\n",
    "model.eval()"
   ]
  },
  {
   "cell_type": "code",
   "execution_count": null,
   "metadata": {},
   "outputs": [],
   "source": [
    "def generate(prompt=\"\", sample_count=10, steps=20, d0_sample=True):\n",
    "    tokenizer = GPT2Tokenizer.from_pretrained(model_architecture)\n",
    "    if len(prompt) == 0:\n",
    "        prompt = '<|endoftext|>'\n",
    "    \n",
    "    encoded = tokenizer(prompt, return_tensors='pt').to(device)\n",
    "    input = encoded[\"input_ids\"].expand(sample_count, -1)\n",
    "\n",
    "    output = model.generate(input, max_new_tokens=steps, do_sample=d0_sample, top_k=40)\n",
    "\n",
    "    for i in range(sample_count):\n",
    "        print(tokenizer.decode(output[i].cpu().squeeze(), skip_special_tokens=True))\n"
   ]
  },
  {
   "cell_type": "code",
   "execution_count": null,
   "metadata": {},
   "outputs": [],
   "source": [
    "generate(prompt=\"Math is\")"
   ]
  }
 ],
 "metadata": {
  "kernelspec": {
   "display_name": "Python 3",
   "language": "python",
   "name": "python3"
  },
  "language_info": {
   "codemirror_mode": {
    "name": "ipython",
    "version": 3
   },
   "file_extension": ".py",
   "mimetype": "text/x-python",
   "name": "python",
   "nbconvert_exporter": "python",
   "pygments_lexer": "ipython3",
   "version": "3.11.5"
  }
 },
 "nbformat": 4,
 "nbformat_minor": 2
}
