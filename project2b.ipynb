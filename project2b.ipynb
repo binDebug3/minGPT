{
 "cells": [
  {
   "cell_type": "code",
   "execution_count": 71,
   "metadata": {},
   "outputs": [],
   "source": [
    "import os\n",
    "import numpy as np\n",
    "from matplotlib import pyplot as plt\n",
    "from scipy.stats import norm\n",
    "\n",
    "import torch\n",
    "from transformers import GPT2Tokenizer\n",
    "from datasets import load_dataset\n",
    "from torch.utils.data import Dataset\n",
    "\n",
    "from mingpt.model import GPT\n",
    "from mingpt.trainer import Trainer\n",
    "from mingpt.utils import set_seed"
   ]
  },
  {
   "cell_type": "code",
   "execution_count": 72,
   "metadata": {},
   "outputs": [],
   "source": [
    "# set model hyperparameters\n",
    "select_mingpt = True\n",
    "model_architecture = 'gpt2'\n",
    "device = 'cpu'\n",
    "set_seed(42)"
   ]
  },
  {
   "cell_type": "markdown",
   "metadata": {},
   "source": [
    "Dataset"
   ]
  },
  {
   "cell_type": "code",
   "execution_count": 73,
   "metadata": {},
   "outputs": [
    {
     "name": "stderr",
     "output_type": "stream",
     "text": [
      "Found cached dataset red_pajama-data-1_t-sample (c:/Users/dalli/source/repos/CS674/lab2/minGPT/datasets/togethercomputer___red_pajama-data-1_t-sample/plain_text/1.0.0/6ea3bc8ec2e84ec6d2df1930942e9028ace8c5b9d9143823cf911c50bbd92039)\n",
      "100%|██████████| 1/1 [00:05<00:00,  5.41s/it]\n"
     ]
    }
   ],
   "source": [
    "# load data\n",
    "dataset = load_dataset(\"togethercomputer/RedPajama-Data-1T-Sample\", \"plain_text\", cache_dir=\"datasets\")[\"train\"]"
   ]
  },
  {
   "cell_type": "code",
   "execution_count": 91,
   "metadata": {},
   "outputs": [],
   "source": [
    "# dataset class\n",
    "new_tokens = [f'<new_id_{i}>' for i in range(300)]\n",
    "\n",
    "class RedPajama(Dataset):\n",
    "    def __init__(self, data, max_length=1024, ul2=False):\n",
    "        self.data = data\n",
    "        self.max_length = max_length - 1\n",
    "\n",
    "        # CHANGE implement UL2\n",
    "        self.tokenizer = GPT2Tokenizer.from_pretrained(model_architecture)\n",
    "        self.tokenizer.add_tokens([f'new_id_{i}' for i in range(300)])\n",
    "        self.tokenizer.add_tokens(['[S2S]', '[NLU]', '[NLG]'])\n",
    "        self.tokenizer.pad_token_id = 50256\n",
    "        \n",
    "        self.vocab_size = len(self.tokenizer)\n",
    "        self.token_dict = {'s': ['[S2S]', self.s_denoiser], 'r': ['[NLU]', self.r_denoiser], 'x': ['[NLG]', self.x_denoiser]}\n",
    "        self.use_ul2 = ul2\n",
    "\n",
    "    def __len__(self):\n",
    "        return len(self.data)\n",
    "\n",
    "    def __getitem__(self, idx):\n",
    "        # load and tokenize the text\n",
    "        text = self.data[idx]['text']\n",
    "\n",
    "        if self.use_ul2:\n",
    "            # choose a denoiser\n",
    "            did, denoiser = self.token_dict[np.random.choice(['s', 'r', 'x'], size=1, p=[0.5, 0.25, 0.25])[0]]\n",
    "\n",
    "            # update text and encode, then denoise\n",
    "            text = did + \" \" + text\n",
    "            tokens = self.tokenizer.encode(text, \n",
    "                                        add_special_tokens=True, \n",
    "                                        max_length=self.max_length, \n",
    "                                        truncation=True, \n",
    "                                        return_tensors='pt', \n",
    "                                        padding=True)\n",
    "            return denoiser(tokens, self.tokenizer)\n",
    "        \n",
    "        elif not self.use_ul2:\n",
    "            tokens = self.tokenizer.encode(text, \n",
    "                                           add_special_tokens=True, \n",
    "                                           max_length=self.max_length, \n",
    "                                           truncation=True, \n",
    "                                           return_tensors='pt', \n",
    "                                           padding=True)\n",
    "            \n",
    "            # split and shift tokens after excluding the CLS token\n",
    "            targets = tokens[:, 1:].clone()\n",
    "            tokens = tokens[:, :-1]  \n",
    "            return tokens, targets\n",
    "        \n",
    "\n",
    "    def s_denoiser(self, tokens, tokenizer):\n",
    "        center = tokens.shape[1] // 2\n",
    "        breadth = 15\n",
    "\n",
    "        # remove tokens according to sequential denoising\n",
    "        remove_idx = np.random.choice(np.arange(center - breadth, center + breadth))\n",
    "        mask = tokenizer.convert_tokens_to_ids(new_tokens[0])\n",
    "        removed = torch.cat((torch.tensor([[mask]]), tokens[:, remove_idx:].clone()), dim=1)\n",
    "        tokens = tokens[:, :remove_idx + 1].clone()\n",
    "        tokens[:, -1] = mask\n",
    "\n",
    "        # pad tokens and return\n",
    "        tokens = torch.cat((tokens, torch.tensor([[tokenizer.eos_token_id] * (self.max_length - tokens.shape[1])])), dim=1)\n",
    "        removed = torch.cat((removed, torch.tensor([[tokenizer.eos_token_id] * (self.max_length - removed.shape[1])])), dim=1)\n",
    "        return tokens, removed\n",
    "\n",
    "\n",
    "    def r_denoiser(self, tokens, tokenizer, corrupt_rate=0.15, span=np.arange(2, 6)):\n",
    "        # compute chance of corruption\n",
    "        _mean = np.mean(span)\n",
    "        _max = np.max(span)\n",
    "        n = tokens.shape[1]\n",
    "        prob = (corrupt_rate / _mean) * (1 + _max / n)\n",
    "        \n",
    "        # tracking variables\n",
    "        removed = None\n",
    "        skip_count = 0\n",
    "        used_tokens = 0\n",
    "\n",
    "        # corrupt tokens\n",
    "        for i in range(1, n):\n",
    "            # skip first few tokens\n",
    "            if skip_count > 0:\n",
    "                skip_count -= 1\n",
    "                continue\n",
    "\n",
    "            if np.random.random() < prob:\n",
    "                # remove token\n",
    "                mask = tokenizer.convert_tokens_to_ids(new_tokens[used_tokens])\n",
    "                used_tokens += 1\n",
    "                c_span = np.random.choice(span)\n",
    "\n",
    "                # update removed\n",
    "                if removed is None:\n",
    "                    removed = torch.cat((torch.tensor([[mask]]), tokens[:, i:i + c_span]), dim=1)\n",
    "                else:\n",
    "                    removed = torch.cat((removed, torch.tensor([[mask]]), tokens[:, i:i + c_span]), dim=1)\n",
    "                tokens = torch.cat((tokens[:, :i], torch.tensor([[mask]]), tokens[:, i + c_span:]), dim=1)\n",
    "                skip_count = c_span\n",
    "\n",
    "        # pad to match length\n",
    "        tokens = torch.cat((tokens, torch.tensor([[tokenizer.eos_token_id] * (self.max_length - tokens.shape[1])])), dim=1)\n",
    "        try:\n",
    "            removed = torch.cat((removed, torch.tensor([[tokenizer.eos_token_id] * (self.max_length - removed.shape[1])])), dim=1)\n",
    "        except:\n",
    "            removed = torch.tensor([[tokenizer.eos_token_id] * (self.max_length)])\n",
    "        return tokens, removed\n",
    "    \n",
    "        \n",
    "    def x_denoiser(self, tokens, tokenizer, corrupt_rate=0.50, span=np.arange(2,6)):\n",
    "        return self.r_denoiser(tokens, tokenizer, corrupt_rate, span)\n",
    "    \n",
    "\n",
    "# Create an instance of the custom dataset\n",
    "rp_dataset = RedPajama(dataset)\n",
    "rp_dataset2 = RedPajama(dataset, ul2=True)"
   ]
  },
  {
   "cell_type": "code",
   "execution_count": 75,
   "metadata": {},
   "outputs": [],
   "source": [
    "# dataset class\n",
    "class RedPajama(Dataset):\n",
    "    def __init__(self, data, max_length=1024, ul2=False):\n",
    "        # super().__init__()\n",
    "        self.data = data\n",
    "        self.max_length = max_length - 1\n",
    "        self.tokenizer = GPT2Tokenizer.from_pretrained(model_architecture)\n",
    "\n",
    "        # CHANGE implement UL2\n",
    "        self.denoise_id = [\"[S2S]\", \"[NLU]\", \"[NLG]\"]\n",
    "        self.tokenizer.add_tokens(self.denoise_id)\n",
    "        self.extra_tokens = [f\"extra_id_{i}\" for i in range(300)]\n",
    "        self.tokenizer.add_tokens(self.extra_tokens)\n",
    "        self.denoise_functions = [self.s_denoiser, self.r_denoiser, self.x_denoiser]\n",
    "        self.use_ul2 = ul2\n",
    "\n",
    "        self.tokenizer.pad_token_id = 50256\n",
    "        self.vocab_size = self.tokenizer.vocab_size\n",
    "\n",
    "    def __len__(self):\n",
    "        # return the number of data points\n",
    "        return len(self.data)\n",
    "    \n",
    "    def __getitem__(self, idx):\n",
    "        # load and tokenize the text\n",
    "        text = self.data[idx][\"text\"]\n",
    "\n",
    "        if self.use_ul2:\n",
    "            # choose a denoise\n",
    "            selected_denoiser = min(np.random.randint(0, 4) - 1, 0)\n",
    "            did = self.denoise_id[selected_denoiser]\n",
    "            denoiser = self.denoise_functions[selected_denoiser]\n",
    "\n",
    "            # update text and encode, then denoise\n",
    "            text = did + \" \" + text\n",
    "            tokens = self.tokenizer.encode(text, \n",
    "                                        add_special_tokens=True, \n",
    "                                        max_length=self.max_length,\n",
    "                                        truncation=True,\n",
    "                                        return_tensors=\"pt\",\n",
    "                                        padding=True)\n",
    "            return denoiser(tokens)\n",
    "\n",
    "        else:\n",
    "            tokens = self.tokenizer.encode(text, \n",
    "                                        add_special_tokens=True, \n",
    "                                        max_length=self.max_length,\n",
    "                                        truncation=True,\n",
    "                                        return_tensors=\"pt\",\n",
    "                                        padding=True)\n",
    "            \n",
    "            # split and shift tokens after excluding the CLS token\n",
    "            targets = tokens[:, 1:].clone()\n",
    "            tokens = tokens[:, :-1].clone()\n",
    "            return tokens, targets\n",
    "        \n",
    "\n",
    "    def s_denoiser(self, tokens):\n",
    "        center = tokens.shape[1] // 2 \n",
    "        breadth = 15\n",
    "\n",
    "        # remove tokens according to sequential denoising\n",
    "        remove_idx = np.random.choice(np.arange(center - breadth, center + breadth))\n",
    "        mask = self.tokenizer.convert_tokens_to_ids(self.extra_tokens[0])\n",
    "        tokens = tokens[:, :remove_idx+1].clone()\n",
    "        tokens[:, -1] = mask\n",
    "\n",
    "        # pad tokens and return\n",
    "        tokens = torch.cat((tokens, torch.tensor([[self.tokenizer.eos_token_id] * (self.max_length - tokens.shape[1])])), dim=1)\n",
    "        removed = torch.cat((torch.tensor([[mask]]), tokens[:, remove_idx:].clone()), dim=1)\n",
    "        removed = torch.cat((removed, torch.tensor([[self.tokenizer.eos_token_id] * (self.max_length - removed.shape[1])])), dim=1)\n",
    "\n",
    "        return tokens, removed\n",
    "\n",
    "\n",
    "    def r_denoiser(self, tokens, corrupt_rate=0.15, span=np.arange(2, 6)):\n",
    "        # compute chance of corruption\n",
    "        _mean = np.mean(span)\n",
    "        _max = np.max(span)\n",
    "        n = tokens.shape[1]\n",
    "        prob = (corrupt_rate / _mean) * (1 + _max / n)\n",
    "\n",
    "        # tracking variables\n",
    "        removed = None\n",
    "        skip_count = 0\n",
    "        used_tokens = 0\n",
    "\n",
    "        # corrupt tokens\n",
    "        for i in range(n):\n",
    "            # skip first few tokens\n",
    "            if skip_count > 0:\n",
    "                skip_count -= 1\n",
    "                continue\n",
    "\n",
    "            if np.random.random() < prob:\n",
    "                # remove token\n",
    "                mask = self.tokenizer.convert_tokens_to_ids(self.extra_tokens[used_tokens])\n",
    "                used_tokens += 1\n",
    "                c_span = np.random.choice(span)\n",
    "\n",
    "                # update removed\n",
    "                if removed is None:\n",
    "                    removed = torch.tensor([[mask] * c_span])\n",
    "                else:\n",
    "                    removed = torch.cat((removed, torch.tensor([[mask]]), tokens[:, i:i + c_span]), dim=1)\n",
    "                tokens = torch.cat((tokens[:, :i], torch.tensor([[mask]]), tokens[:, i + c_span:]), dim=1)\n",
    "                skip_count = c_span\n",
    "\n",
    "        # pad to match length\n",
    "        tokens = torch.cat((tokens, torch.tensor([[self.tokenizer.eos_token_id] * (self.max_length - n)])), dim=1)\n",
    "        removed = torch.cat((removed, torch.tensor([[self.tokenizer.eos_token_id] * (self.max_length - removed.shape[1])])), dim=1)\n",
    "\n",
    "        return tokens, removed\n",
    "\n",
    "\n",
    "    def x_denoiser(self, tokens, corrupt_rate=0.5, span=np.arange(2, 6)):\n",
    "        return self.r_denoiser(tokens, corrupt_rate, span)\n",
    "    \n",
    "\n",
    "# rp_dataset = RedPajama(dataset)\n",
    "# rp_dataset2 = RedPajama(dataset, ul2=True)"
   ]
  },
  {
   "cell_type": "code",
   "execution_count": 92,
   "metadata": {},
   "outputs": [],
   "source": [
    "# set up data path\n",
    "path = \"./checkpoints/redpajama4\"\n",
    "\n",
    "if not os.path.exists(path):\n",
    "    os.makedirs(path)\n",
    "    checkpoints = os.listdir(path)\n",
    "else:\n",
    "    checkpoints = os.listdir(path)\n",
    "checkpoints.sort()"
   ]
  },
  {
   "cell_type": "markdown",
   "metadata": {},
   "source": [
    "Model"
   ]
  },
  {
   "cell_type": "code",
   "execution_count": 93,
   "metadata": {},
   "outputs": [
    {
     "name": "stdout",
     "output_type": "stream",
     "text": [
      "number of parameters: 2.56M\n",
      "number of parameters: 2.56M\n"
     ]
    }
   ],
   "source": [
    "# set up model configurations\n",
    "model_config = GPT.get_default_config()\n",
    "model_config.model_type = 'gpt-nano'\n",
    "model_config.vocab_size = rp_dataset.vocab_size\n",
    "model_config.block_size = rp_dataset.max_length\n",
    "model_config.checkpoint = None\n",
    "model_config.ul2 = False\n",
    "\n",
    "# set up model with configurations\n",
    "model = GPT(model_config)\n",
    "\n",
    "\n",
    "# set up model configurations\n",
    "model_config2 = GPT.get_default_config()\n",
    "model_config2.model_type = 'gpt-nano'\n",
    "model_config2.vocab_size = rp_dataset2.vocab_size\n",
    "model_config2.block_size = rp_dataset2.max_length\n",
    "model_config2.checkpoint = None\n",
    "model_config2.ul2 = True\n",
    "model2 = GPT(model_config2)"
   ]
  },
  {
   "cell_type": "code",
   "execution_count": 94,
   "metadata": {},
   "outputs": [
    {
     "name": "stdout",
     "output_type": "stream",
     "text": [
      "running on device cpu\n",
      "running on device cpu\n"
     ]
    }
   ],
   "source": [
    "# set up trainer configurations\n",
    "max_iters = 3000\n",
    "train_config = Trainer.get_default_config()\n",
    "train_config.learning_rate = 5e-4   \n",
    "train_config.max_iters = max_iters + model.iter_num if model_config.checkpoint else max_iters\n",
    "train_config.num_workers = 0\n",
    "train_config.checkpoint_iters = 100 \n",
    "train_config.batch_size = 1\n",
    "train_config.checkpoint_name = path\n",
    "\n",
    "# set up trainer with configurations\n",
    "trainer = Trainer(train_config, model, rp_dataset)\n",
    "\n",
    "\n",
    "# set up trainer configurations\n",
    "train_config2 = Trainer.get_default_config()\n",
    "train_config2.learning_rate = 5e-4 # the model we're using is so small that we can go a bit faster\n",
    "train_config2.max_iters = max_iters + model2.iter_num if model_config2.checkpoint else max_iters\n",
    "train_config2.num_workers = 0\n",
    "train_config2.checkpoint_iters = 100 \n",
    "train_config2.batch_size = 1\n",
    "train_config2.checkpoint_name = path\n",
    "trainer2 = Trainer(train_config2, model2, rp_dataset2)"
   ]
  },
  {
   "cell_type": "code",
   "execution_count": 101,
   "metadata": {},
   "outputs": [
    {
     "name": "stdout",
     "output_type": "stream",
     "text": [
      "iter_dt 0.00ms; iter 0: train loss 10.83892\n",
      "iter_dt 1045.12ms; iter 100: train loss 9.49940\n",
      "iter_dt 2013.30ms; iter 200: train loss 7.41863\n",
      "iter_dt 1177.18ms; iter 300: train loss 9.12020\n",
      "iter_dt 233.55ms; iter 400: train loss 8.45514\n",
      "iter_dt 378.42ms; iter 500: train loss 8.48204\n",
      "iter_dt 1187.99ms; iter 600: train loss 6.96077\n",
      "iter_dt 1795.78ms; iter 700: train loss 6.96798\n",
      "iter_dt 911.10ms; iter 800: train loss 6.87461\n",
      "iter_dt 196.00ms; iter 900: train loss 6.71654\n",
      "iter_dt 550.00ms; iter 1000: train loss 7.41221\n",
      "iter_dt 1210.00ms; iter 1100: train loss 6.93736\n",
      "iter_dt 506.36ms; iter 1200: train loss 7.31240\n",
      "iter_dt 330.23ms; iter 1300: train loss 6.23045\n",
      "iter_dt 232.00ms; iter 1400: train loss 6.67665\n",
      "iter_dt 328.00ms; iter 1500: train loss 6.72343\n",
      "iter_dt 169.00ms; iter 1600: train loss 6.83319\n",
      "iter_dt 721.60ms; iter 1700: train loss 6.06290\n",
      "iter_dt 614.00ms; iter 1800: train loss 7.47232\n",
      "iter_dt 2348.43ms; iter 1900: train loss 6.51160\n",
      "iter_dt 2007.73ms; iter 2000: train loss 6.42096\n",
      "iter_dt 157.34ms; iter 2100: train loss 7.08982\n",
      "iter_dt 701.51ms; iter 2200: train loss 6.30715\n",
      "iter_dt 2104.86ms; iter 2300: train loss 6.85846\n",
      "iter_dt 1739.92ms; iter 2400: train loss 6.69661\n",
      "iter_dt 1326.05ms; iter 2500: train loss 7.13986\n",
      "iter_dt 238.67ms; iter 2600: train loss 7.76146\n",
      "iter_dt 1782.88ms; iter 2700: train loss 6.82382\n",
      "iter_dt 420.06ms; iter 2800: train loss 6.88956\n",
      "iter_dt 1512.25ms; iter 2900: train loss 6.43986\n"
     ]
    }
   ],
   "source": [
    "# train model 1\n",
    "def batch_end_callback(trainer):\n",
    "    if trainer.iter_num % 100 == 0:\n",
    "        print(f\"iter_dt {trainer.iter_dt * 1000:.2f}ms; iter {trainer.iter_num}: train loss {trainer.loss.item():.5f}\")\n",
    "trainer.set_callback('on_batch_end', batch_end_callback)\n",
    "\n",
    "trainer.run()"
   ]
  },
  {
   "cell_type": "code",
   "execution_count": 95,
   "metadata": {},
   "outputs": [
    {
     "name": "stdout",
     "output_type": "stream",
     "text": [
      "iter_dt 0.00ms; iter 0: train loss 10.84418\n",
      "iter_dt 1228.00ms; iter 100: train loss 6.71064\n",
      "iter_dt 1291.96ms; iter 200: train loss 4.71071\n",
      "iter_dt 974.00ms; iter 300: train loss 0.14959\n",
      "iter_dt 1083.00ms; iter 400: train loss 0.71316\n",
      "iter_dt 1099.00ms; iter 500: train loss 1.28238\n",
      "iter_dt 1317.00ms; iter 600: train loss 0.32095\n",
      "iter_dt 1065.00ms; iter 700: train loss 0.62072\n",
      "iter_dt 1561.00ms; iter 800: train loss 1.13112\n",
      "iter_dt 1013.05ms; iter 900: train loss 0.27640\n",
      "iter_dt 1226.00ms; iter 1000: train loss 2.47354\n",
      "iter_dt 1063.00ms; iter 1100: train loss 3.93464\n",
      "iter_dt 1047.00ms; iter 1200: train loss 2.56153\n",
      "iter_dt 1181.00ms; iter 1300: train loss 3.93039\n",
      "iter_dt 1037.00ms; iter 1400: train loss 0.30181\n",
      "iter_dt 1031.00ms; iter 1500: train loss 0.79424\n",
      "iter_dt 1097.00ms; iter 1600: train loss 0.64587\n",
      "iter_dt 1015.00ms; iter 1700: train loss 0.38402\n",
      "iter_dt 1101.03ms; iter 1800: train loss 0.22310\n",
      "iter_dt 1266.00ms; iter 1900: train loss 0.90187\n",
      "iter_dt 1034.00ms; iter 2000: train loss 2.16549\n",
      "iter_dt 1582.38ms; iter 2100: train loss 0.26607\n",
      "iter_dt 1145.01ms; iter 2200: train loss 0.80636\n",
      "iter_dt 994.00ms; iter 2300: train loss 2.64513\n",
      "iter_dt 2804.00ms; iter 2400: train loss 3.85778\n",
      "iter_dt 1183.00ms; iter 2500: train loss 3.72097\n",
      "iter_dt 1397.01ms; iter 2600: train loss 0.53232\n",
      "iter_dt 1223.00ms; iter 2700: train loss 0.65092\n",
      "iter_dt 1225.00ms; iter 2800: train loss 0.64069\n",
      "iter_dt 1388.00ms; iter 2900: train loss 3.09452\n"
     ]
    }
   ],
   "source": [
    "# train model 2\n",
    "def batch_end_callback(trainer2):\n",
    "    if trainer2.iter_num % 100 == 0:\n",
    "        print(f\"iter_dt {trainer2.iter_dt * 1000:.2f}ms; iter {trainer2.iter_num}: train loss {trainer2.loss.item():.5f}\")\n",
    "trainer2.set_callback('on_batch_end', batch_end_callback)\n",
    "\n",
    "trainer2.run()"
   ]
  },
  {
   "cell_type": "code",
   "execution_count": 105,
   "metadata": {},
   "outputs": [
    {
     "name": "stdout",
     "output_type": "stream",
     "text": [
      "[array(5.6209245, dtype=float32), array(4.7107096, dtype=float32), array(0.149592, dtype=float32), array(0.71315515, dtype=float32), array(2.3890326, dtype=float32), array(2.8529541, dtype=float32), array(3.297324, dtype=float32), array(0.48951903, dtype=float32), array(1.6875283, dtype=float32), array(0.2943723, dtype=float32), array(1.0988846, dtype=float32), array(0.3168655, dtype=float32), array(0.22847171, dtype=float32), array(2.2546363, dtype=float32), array(0.24511506, dtype=float32), array(1.9696666, dtype=float32), array(1.0417166, dtype=float32), array(3.5418508, dtype=float32), array(0.7951471, dtype=float32), array(0.18668178, dtype=float32), array(0.41138038, dtype=float32), array(1.2716885, dtype=float32), array(0.3263122, dtype=float32), array(2.4206946, dtype=float32), array(2.5075874, dtype=float32), array(0.5100724, dtype=float32), array(1.3591752, dtype=float32), array(2.5377343, dtype=float32), array(3.616055, dtype=float32)]\n"
     ]
    },
    {
     "data": {
      "image/png": "[encoded data removed]",
      "text/plain": [
       "<Figure size 640x480 with 1 Axes>"
      ]
     },
     "metadata": {},
     "output_type": "display_data"
    },
    {
     "data": {
      "text/plain": [
       "<Figure size 640x480 with 0 Axes>"
      ]
     },
     "metadata": {},
     "output_type": "display_data"
    }
   ],
   "source": [
    "# show loss\n",
    "val1 = [a.detach().numpy() for a in trainer.saved_loss]\n",
    "val2 = [a.detach().numpy() for a in trainer2.saved_loss]\n",
    "# val2 = [a.detach().numpy() if a.detach().numpy() > 2 else a.detach().numpy() + 2 for a in trainer2.saved_loss]\n",
    "# print(val1)\n",
    "print(val2)\n",
    "plt.plot(trainer.iter_list, val1, label=\"No UL2\")\n",
    "plt.plot(trainer2.iter_list, val2, label=\"UL2\")\n",
    "plt.xlabel('Iteration')\n",
    "plt.ylabel('Loss')\n",
    "plt.title('GPT-Nano Training Loss')\n",
    "plt.ylim(0, max(val1) *1.1)\n",
    "plt.legend()\n",
    "plt.show()\n",
    "\n",
    "plt.savefig('gpt-nano-loss.png')"
   ]
  },
  {
   "cell_type": "code",
   "execution_count": null,
   "metadata": {},
   "outputs": [
    {
     "name": "stdout",
     "output_type": "stream",
     "text": [
      "dict_keys(['config', 'model', 'optimizer', 'train_dataset', 'callbacks', 'device', 'iter_num', 'iter_time', 'iter_dt'])\n",
      "0.0\n"
     ]
    }
   ],
   "source": [
    "# print the attributes of trainer\n",
    "print(trainer.__dict__.keys())\n",
    "print(trainer.iter_time)"
   ]
  },
  {
   "cell_type": "markdown",
   "metadata": {},
   "source": [
    "Use Model"
   ]
  },
  {
   "cell_type": "code",
   "execution_count": null,
   "metadata": {},
   "outputs": [],
   "source": [
    "def generate(prompt=\"\", sample_count=10, steps=20, do_sample=True):\n",
    "    # handle empty prompt\n",
    "    if prompt == \"\": prompt = \"<|endoftext|>\"\n",
    "    \n",
    "    # tokenize and encode the prompt in batches\n",
    "    tokenizer = GPT2Tokenizer.from_pretrained(model_architecture)\n",
    "    tokenized = tokenizer(prompt, return_tensors=\"pt\").to(device)\n",
    "    input = tokenized[\"input_ids\"].expand(sample_count, -1)\n",
    "\n",
    "    # generate output\n",
    "    output = model.generate(input, max_new_tokens=steps, do_sample=do_sample, top_k=40)\n",
    "    for i in range(sample_count):\n",
    "        print(f\"Sample {i+1}: {tokenizer.decode(output[i].cpu().squeeze(), skip_special_tokens=True)}\\n\")"
   ]
  },
  {
   "cell_type": "code",
   "execution_count": null,
   "metadata": {},
   "outputs": [],
   "source": [
    "# generate(\"Math is\")"
   ]
  }
 ],
 "metadata": {
  "kernelspec": {
   "display_name": "Python 3",
   "language": "python",
   "name": "python3"
  },
  "language_info": {
   "codemirror_mode": {
    "name": "ipython",
    "version": 3
   },
   "file_extension": ".py",
   "mimetype": "text/x-python",
   "name": "python",
   "nbconvert_exporter": "python",
   "pygments_lexer": "ipython3",
   "version": "3.11.5"
  }
 },
 "nbformat": 4,
 "nbformat_minor": 2
}
